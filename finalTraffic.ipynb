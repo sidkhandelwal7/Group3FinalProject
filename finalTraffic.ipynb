{
 "cells": [
  {
   "cell_type": "markdown",
   "metadata": {},
   "source": [
    "# Introduction\n",
    "- I chose a dataset that contains the different average daily taffic for the different neighborhoods in pittsburgh\n",
    "\n",
    "- I chose this dataset because I figured it would be a straightforward way to compare the different neighborhoods\n",
    "\n",
    "- The metric I used was the average daily traffic divided by the size of each neighborhood. I used datasets containing the average daily traffic and the sizes of the neighborhoods in miles squared"
   ]
  },
  {
   "cell_type": "code",
   "execution_count": 9,
   "metadata": {},
   "outputs": [],
   "source": [
    "import pandas as pd\n",
    "import numpy as np\n",
    "%matplotlib inline\n",
    "import matplotlib.pyplot as plt\n",
    "import heapq"
   ]
  },
  {
   "cell_type": "code",
   "execution_count": 10,
   "metadata": {},
   "outputs": [],
   "source": [
    "data= pd.read_csv(\"pittTraffic.csv\", usecols=[\"neighborhood\", \"average_daily_car_traffic\"])\n",
    "validData= data['average_daily_car_traffic']>0\n",
    "queryMask= data[validData]\n",
    "\n",
    "data= pd.read_csv(\"miles.csv\", usecols=[\"neighborhood\", \"size\"])\n",
    "sizeData= data['size']>0\n",
    "sizeMask=data[sizeData]\n"
   ]
  },
  {
   "cell_type": "code",
   "execution_count": 11,
   "metadata": {},
   "outputs": [],
   "source": [
    "neighborhoodList= []\n",
    "traffic=[]\n",
    "result=[]\n",
    "repeats=[]\n",
    "neighborhoodDict= {}\n",
    "\n",
    "for index, row in queryMask.iterrows():         \n",
    "        {\n",
    "        neighborhoodList.append(row['neighborhood'])\n",
    "        }\n",
    "        \n",
    "for index, row in queryMask.iterrows():\n",
    "       traffic.append(row['average_daily_car_traffic'])\n",
    "        \n",
    "for i in range(len(traffic)):\n",
    "    neighborhoodDict[i]=[traffic[i], neighborhoodList[i]]\n"
   ]
  },
  {
   "cell_type": "code",
   "execution_count": 12,
   "metadata": {},
   "outputs": [],
   "source": [
    "cleanList=[]\n",
    "cleanValues=[]\n",
    "\n",
    "for key, value in neighborhoodDict.items():\n",
    "    \n",
    "    value= neighborhoodDict[key]\n",
    "    \n",
    "    if value[1] not in cleanList:\n",
    "        cleanList.append(value[1])\n",
    "        cleanValues.append(value[0])\n",
    "    \n",
    "    else:\n",
    "        cleanValues[cleanList.index(value[1])]= cleanValues[cleanList.index(value[1])] + value[0]\n",
    "        \n",
    "maxValues= []\n",
    "minValues= []\n",
    "maxValues.append((heapq.nlargest(3, cleanValues)))\n",
    "minValues.append((heapq.nsmallest(3, cleanValues)))\n",
    "\n",
    "maxValues= maxValues[0]\n",
    "minValues= minValues[0]\n",
    "minNeighborhoods= []\n",
    "maxNeighborhoods= []\n",
    "\n",
    "for i in range(3):\n",
    "    minNeighborhoods.append(cleanList[cleanValues.index(maxValues[i])])\n",
    "    maxNeighborhoods.append(cleanList[cleanValues.index(minValues[i])])"
   ]
  },
  {
   "cell_type": "code",
   "execution_count": 17,
   "metadata": {},
   "outputs": [],
   "source": [
    "sizeList= []\n",
    "newHoodList=[]\n",
    "trafficBySize=[]\n",
    "finalNeighborhoods= []\n",
    "finalSize=[]\n",
    "finalTraffic=[]\n",
    "finalTrafficBySize=[]\n",
    "\n",
    "\n",
    "for index, row in sizeMask.iterrows():\n",
    "    sizeList.append(row['size'])\n",
    "\n",
    "for index, row in sizeMask.iterrows():\n",
    "    newHoodList.append(row['neighborhood'])\n",
    "\n",
    "for i in range(len(sizeList)):\n",
    "    traffic=cleanValues[cleanList.index(newHoodList[i])]\n",
    "    divided=(traffic/sizeList[i])  \n",
    "    finalTrafficBySize.append(round(divided,2))\n",
    "    finalNeighborhoods.append(cleanList[cleanList.index(newHoodList[i])])\n",
    "    finalTraffic.append(traffic)\n",
    "\n",
    "finalSize=sizeList\n",
    "\n",
    "topTrafficBySize=[]\n",
    "topNeighborhoods=[]\n",
    "lowTrafficBySize=[]\n",
    "lowNeighborhoods=[]\n",
    "lowestNeighborhood=[]\n",
    "lowestTrafficBySize=[]\n",
    "\n",
    "topTrafficBySize.append(heapq.nlargest(5, finalTrafficBySize))\n",
    "topTrafficBySize=topTrafficBySize[0]\n",
    "\n",
    "lowTrafficBySize.append(heapq.nsmallest(5, finalTrafficBySize))\n",
    "lowTrafficBySize=lowTrafficBySize[0]\n",
    "\n",
    "lowestTrafficBySize.append(heapq.nsmallest(1, finalTrafficBySize))\n",
    "lowestTrafficBySize=lowestTrafficBySize[0]\n",
    "\n",
    "lowestNeighborhood.append(finalNeighborhoods[finalTrafficBySize.index(lowestTrafficBySize[0])])\n",
    "\n",
    "\n",
    "\n",
    "for i in range(5):\n",
    "    topNeighborhoods.append(finalNeighborhoods[finalTrafficBySize.index(topTrafficBySize[i])])\n",
    "    lowNeighborhoods.append(finalNeighborhoods[finalTrafficBySize.index(lowTrafficBySize[i])])\n",
    "    \n",
    "topSize=[heapq.nlargest(1, finalSize)]\n",
    "topSize=topSize[0][0]\n",
    "bottomSize=[heapq.nsmallest(1, finalSize)][0]\n",
    "bottomSize=bottomSize[0]\n",
    "\n",
    "\n",
    "lemingtonNeighborhood=finalNeighborhoods[finalNeighborhoods.index('Lincoln-Lemington-Belmar')]\n",
    "lemingtonSize= finalSize[finalNeighborhoods.index('Lincoln-Lemington-Belmar')]\n",
    "\n",
    "sizeComparison=[topSize, lemingtonSize, bottomSize]\n",
    "neighborhoodComparison=[finalNeighborhoods[finalSize.index(topSize)], finalNeighborhoods[finalSize.index(lemingtonSize)], finalNeighborhoods[finalSize.index(bottomSize)]]"
   ]
  },
  {
   "cell_type": "markdown",
   "metadata": {},
   "source": [
    "# Code Summary\n",
    "- Loaded in average daily car traffic, neighborhoods, and the size of the neighborhoods from Traffic file\n",
    "\n",
    "- Made Lists containing this data for each unique neighborhood\n",
    "\n",
    "- Divided the average daily traffic by the size of the neighborhood in m^2 and put in a list to better interpret the data\n",
    "\n",
    "- Created the graphs shown below\n"
   ]
  },
  {
   "cell_type": "markdown",
   "metadata": {},
   "source": [
    "## 5 Lowest Neighborhoods (average daily traffic / size in miles squared)\n"
   ]
  },
  {
   "cell_type": "code",
   "execution_count": 18,
   "metadata": {},
   "outputs": [
    {
     "data": {
      "text/plain": [
       "<BarContainer object of 5 artists>"
      ]
     },
     "execution_count": 18,
     "metadata": {},
     "output_type": "execute_result"
    },
    {
     "data": {
      "image/png": "[encoded data removed]",
      "text/plain": [
       "<Figure size 432x288 with 1 Axes>"
      ]
     },
     "metadata": {
      "needs_background": "light"
     },
     "output_type": "display_data"
    }
   ],
   "source": [
    "plt.bar(lowNeighborhoods, lowTrafficBySize)"
   ]
  },
  {
   "cell_type": "markdown",
   "metadata": {},
   "source": [
    "## 3 Highest Neighborhoods (average daily traffic / size in miles squared)"
   ]
  },
  {
   "cell_type": "code",
   "execution_count": 15,
   "metadata": {},
   "outputs": [
    {
     "data": {
      "text/plain": [
       "<BarContainer object of 3 artists>"
      ]
     },
     "execution_count": 15,
     "metadata": {},
     "output_type": "execute_result"
    },
    {
     "data": {
      "image/png": "[encoded data removed]",
      "text/plain": [
       "<Figure size 432x288 with 1 Axes>"
      ]
     },
     "metadata": {
      "needs_background": "light"
     },
     "output_type": "display_data"
    }
   ],
   "source": [
    "plt.bar(topNeighborhoods, topTrafficBySize)"
   ]
  },
  {
   "cell_type": "markdown",
   "metadata": {},
   "source": [
    "## Comparison in Size (miles squared) between Lincoln-Leminton-Belmar and Biggest, Smallest"
   ]
  },
  {
   "cell_type": "code",
   "execution_count": 16,
   "metadata": {},
   "outputs": [
    {
     "data": {
      "text/plain": [
       "<BarContainer object of 3 artists>"
      ]
     },
     "execution_count": 16,
     "metadata": {},
     "output_type": "execute_result"
    },
    {
     "data": {
      "image/png": "[encoded data removed]",
      "text/plain": [
       "<Figure size 432x288 with 1 Axes>"
      ]
     },
     "metadata": {
      "needs_background": "light"
     },
     "output_type": "display_data"
    }
   ],
   "source": [
    "plt.bar(neighborhoodComparison, sizeComparison)"
   ]
  },
  {
   "cell_type": "markdown",
   "metadata": {},
   "source": [
    "# Conclusion\n",
    "- The neighborhood with the least amount of traffic by size was Lincoln-Lemington-Belmar\n",
    "- This would be the best neighborhood based solely on traffic time but the true best neighborhood should take into account more important factors like crime rate and housing price before viewing the traffic time"
   ]
  },
  {
   "cell_type": "code",
   "execution_count": null,
   "metadata": {},
   "outputs": [],
   "source": []
  }
 ],
 "metadata": {
  "kernelspec": {
   "display_name": "Python 3",
   "language": "python",
   "name": "python3"
  },
  "language_info": {
   "codemirror_mode": {
    "name": "ipython",
    "version": 3
   },
   "file_extension": ".py",
   "mimetype": "text/x-python",
   "name": "python",
   "nbconvert_exporter": "python",
   "pygments_lexer": "ipython3",
   "version": "3.8.3"
  }
 },
 "nbformat": 4,
 "nbformat_minor": 4
}
